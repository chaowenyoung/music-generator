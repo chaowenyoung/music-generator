{
 "cells": [
  {
   "cell_type": "markdown",
   "metadata": {
    "slideshow": {
     "slide_type": "slide"
    }
   },
   "source": [
    "# Having fun with music and Keras"
   ]
  },
  {
   "cell_type": "markdown",
   "metadata": {
    "slideshow": {
     "slide_type": "fragment"
    }
   },
   "source": [
    "## My personal motivation"
   ]
  },
  {
   "cell_type": "markdown",
   "metadata": {
    "slideshow": {
     "slide_type": "slide"
    }
   },
   "source": [
    "## What are we going to do?\n",
    "\n",
    "* Understand how to build a simple synthesizer using `numpy`\n",
    "* Explain a bit about music theory and come up with a simple way to generate something that sounds musical\n",
    "* Use this generated data set for some deep learning applications\n",
    "\n",
    "\n",
    "* I am mainly going to dive into operations on the raw sound data\n",
    "    * I am not going to dive into models that learn how to compose like a certain artists, etc."
   ]
  },
  {
   "cell_type": "markdown",
   "metadata": {
    "slideshow": {
     "slide_type": "slide"
    }
   },
   "source": [
    "## Why take this approach?\n",
    "\n",
    "Why generate a data set when you can download an existing one?"
   ]
  },
  {
   "cell_type": "markdown",
   "metadata": {
    "slideshow": {
     "slide_type": "fragment"
    }
   },
   "source": [
    "Main reason: \n",
    "* It's more fun this way\n",
    "* Since we're building it from the ground up, we can control the complexity and learn more about the strength and weaknesses of the different Deep Learning architectures\n",
    "* The data set of generated music is unlimited, we never run out"
   ]
  },
  {
   "cell_type": "markdown",
   "metadata": {
    "slideshow": {
     "slide_type": "slide"
    }
   },
   "source": [
    "## Deep learning applications"
   ]
  },
  {
   "cell_type": "markdown",
   "metadata": {
    "slideshow": {
     "slide_type": "fragment"
    }
   },
   "source": [
    "**On synthesized music**\n",
    "* Single out an instrument when multiple instruments are playing together\n",
    "* Detect what notes are being played (solvege) for single instrument, one note\n",
    "* Extend that model to multiple instruments and with more than one note"
   ]
  },
  {
   "cell_type": "markdown",
   "metadata": {
    "slideshow": {
     "slide_type": "fragment"
    }
   },
   "source": [
    "**On real music**\n",
    "* Detect when a lead guitar is playing over a backing track"
   ]
  },
  {
   "cell_type": "markdown",
   "metadata": {
    "slideshow": {
     "slide_type": "skip"
    }
   },
   "source": [
    "## Prerequisite knowledge?"
   ]
  },
  {
   "cell_type": "markdown",
   "metadata": {
    "slideshow": {
     "slide_type": "skip"
    }
   },
   "source": [
    "* Basic `numpy` knowledge\n",
    "* Bonus: Have a bit experience with the Keras API\n",
    "* A bit of understanding about music theory will help, but is not necessary"
   ]
  }
 ],
 "metadata": {
  "celltoolbar": "Slideshow",
  "kernelspec": {
   "display_name": "Python 3",
   "language": "python",
   "name": "python3"
  },
  "language_info": {
   "codemirror_mode": {
    "name": "ipython",
    "version": 3
   },
   "file_extension": ".py",
   "mimetype": "text/x-python",
   "name": "python",
   "nbconvert_exporter": "python",
   "pygments_lexer": "ipython3",
   "version": "3.7.1"
  }
 },
 "nbformat": 4,
 "nbformat_minor": 2
}
