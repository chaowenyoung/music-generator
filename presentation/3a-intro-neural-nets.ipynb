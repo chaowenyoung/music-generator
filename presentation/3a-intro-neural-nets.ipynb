{
 "cells": [
  {
   "cell_type": "markdown",
   "metadata": {},
   "source": [
    "# Neural net"
   ]
  },
  {
   "cell_type": "markdown",
   "metadata": {},
   "source": [
    "<img src=\"images/nn.jpg\">"
   ]
  },
  {
   "cell_type": "markdown",
   "metadata": {},
   "source": [
    "## How to train a neural network\n",
    "\n",
    "* Every arrow is a multiplication by a weight\n",
    "* At every node there is an addition of a constant, called bias\n",
    "* An activation function is applied to the input of each node"
   ]
  },
  {
   "cell_type": "markdown",
   "metadata": {},
   "source": [
    "You can see a neural net is a function of the inputs and parameters\n",
    "\n",
    "$$\\mathrm{output} = f(x, \\mathrm{weights}, \\mathrm{bias})$$"
   ]
  },
  {
   "cell_type": "markdown",
   "metadata": {},
   "source": [
    "Training the neural network is essentially an optimisation problem:\n",
    "* Finding those weights and biases where the output is as close as possible to a desired outcome\n",
    "\n",
    "In psuedo-code you could naively do this:\n",
    "\n",
    "```\n",
    "min_error = infinity\n",
    "best_parameters = None\n",
    "\n",
    "for weights, biases in possible_weights_and_biases:\n",
    "    sum_error = 0\n",
    "    for data_point in data_points:\n",
    "        sum_error += (f(data_point, weights, biases) - true_value)**2\n",
    "    if sum_error < min_error:\n",
    "        min_error = sum_error\n",
    "        best_parameters = weights, bias\n",
    "```    "
   ]
  },
  {
   "cell_type": "markdown",
   "metadata": {},
   "source": [
    "## Gradient descend"
   ]
  },
  {
   "cell_type": "markdown",
   "metadata": {},
   "source": [
    "* Since there are typically a lot of weights, iterating is typically not possible and there are many algorithms:\n",
    "    * Determine in which direction to step, which direction leads to an improvement\n",
    "    * This direction can be determined by calculating the derivates of the function w.r.t. the weights and biases"
   ]
  }
 ],
 "metadata": {
  "kernelspec": {
   "display_name": "Python 3",
   "language": "python",
   "name": "python3"
  },
  "language_info": {
   "codemirror_mode": {
    "name": "ipython",
    "version": 3
   },
   "file_extension": ".py",
   "mimetype": "text/x-python",
   "name": "python",
   "nbconvert_exporter": "python",
   "pygments_lexer": "ipython3",
   "version": "3.7.1"
  }
 },
 "nbformat": 4,
 "nbformat_minor": 2
}
