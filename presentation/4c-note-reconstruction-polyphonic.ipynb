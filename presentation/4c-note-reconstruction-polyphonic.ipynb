{
 "cells": [
  {
   "cell_type": "markdown",
   "metadata": {
    "slideshow": {
     "slide_type": "slide"
    }
   },
   "source": [
    "# Making it a bit harder\n",
    "\n",
    "We are going to increase the complexity on two levels:\n",
    "\n",
    "* We are going to add chords and bass instruments\n",
    "* We are going to let the lead synthesizer play multiple notes at once"
   ]
  },
  {
   "cell_type": "code",
   "execution_count": null,
   "metadata": {
    "slideshow": {
     "slide_type": "skip"
    }
   },
   "outputs": [],
   "source": [
    "%load_ext autoreload\n",
    "%autoreload 2"
   ]
  },
  {
   "cell_type": "code",
   "execution_count": null,
   "metadata": {
    "slideshow": {
     "slide_type": "skip"
    }
   },
   "outputs": [],
   "source": [
    "from music_generator.prefabs.random_walk_track import generate_dataset, make_lead_instrument, generate_lead_track\n",
    "from music_generator.music.timing import Tempo, Signature, Duration\n",
    "from music_generator.signalproc.signalproc import SamplingInfo, mix_at\n",
    "from music_generator.analysis.plots import set_style\n",
    "from music_generator.music.scales import GenericScale\n",
    "from music_generator.music.songs import Track, Measure\n",
    "\n",
    "from scipy.signal import stft\n",
    "\n",
    "import numpy as np\n",
    "import pandas as pd\n",
    "import matplotlib.pyplot as plt\n",
    "import matplotlib\n",
    "import datetime as dt\n",
    "%matplotlib inline\n",
    "\n",
    "from IPython.display import Audio"
   ]
  },
  {
   "cell_type": "code",
   "execution_count": null,
   "metadata": {
    "slideshow": {
     "slide_type": "skip"
    }
   },
   "outputs": [],
   "source": [
    "set_style()"
   ]
  },
  {
   "cell_type": "code",
   "execution_count": null,
   "metadata": {
    "slideshow": {
     "slide_type": "skip"
    }
   },
   "outputs": [],
   "source": [
    "sr = 44100\n",
    "sampling_info = SamplingInfo(sr)\n",
    "scale = GenericScale('C', [0, 1, 4, 5, 7, 8, 10])\n",
    "signature = Signature(4, 4)\n",
    "n_measures = 128\n",
    "tempo = t = Tempo(120)"
   ]
  },
  {
   "cell_type": "code",
   "execution_count": null,
   "metadata": {
    "slideshow": {
     "slide_type": "skip"
    }
   },
   "outputs": [],
   "source": [
    "lead_instrument = make_lead_instrument(sampling_info)"
   ]
  },
  {
   "cell_type": "code",
   "execution_count": null,
   "metadata": {
    "slideshow": {
     "slide_type": "skip"
    }
   },
   "outputs": [],
   "source": [
    "tracks, parts, mix = generate_dataset(n_measures, Tempo(120), scale=scale)"
   ]
  },
  {
   "cell_type": "code",
   "execution_count": null,
   "metadata": {
    "slideshow": {
     "slide_type": "skip"
    }
   },
   "outputs": [],
   "source": [
    "trk_bass, trk_chord, trk_lead = tracks\n",
    "y_bass, y_chord, y_lead = parts"
   ]
  },
  {
   "cell_type": "markdown",
   "metadata": {
    "slideshow": {
     "slide_type": "slide"
    }
   },
   "source": [
    "## Add harmony"
   ]
  },
  {
   "cell_type": "code",
   "execution_count": null,
   "metadata": {
    "slideshow": {
     "slide_type": "skip"
    }
   },
   "outputs": [],
   "source": [
    "lead_track = generate_lead_track(scale, tempo, signature, n_measures, 4)"
   ]
  },
  {
   "cell_type": "code",
   "execution_count": null,
   "metadata": {
    "slideshow": {
     "slide_type": "skip"
    }
   },
   "outputs": [],
   "source": [
    "terts = pd.DataFrame({'note': scale.generate(4, 8)[:-2], 'harm': scale.generate(4, 8)[2:]})\n",
    "\n",
    "df_harm = pd.merge(pd.DataFrame({'note': [n.note for n in trk_lead.generate_notes()],\n",
    "                                 'offset': [n.offset for n in trk_lead.generate_notes()],\n",
    "                                 'duration': [n.duration for n in trk_lead.generate_notes()],\n",
    "                                 'velocity': [n.velocity for n in trk_lead.generate_notes()]\n",
    "                                }), terts, on='note')"
   ]
  },
  {
   "cell_type": "code",
   "execution_count": null,
   "metadata": {
    "slideshow": {
     "slide_type": "skip"
    }
   },
   "outputs": [],
   "source": [
    "measure = Measure(t, Signature(4, 4))\n",
    "for i, row in df_harm.iterrows():\n",
    "    measure.add_note(row.harm, row.offset.beats(t), row.duration.beats(t), row.velocity)\n",
    "    measure.add_note(row.note, row.offset.beats(t), row.duration.beats(t), row.velocity)\n",
    "trk_lead = Track([measure])\n",
    "\n",
    "y_lead = lead_instrument.generate_track(trk_lead)"
   ]
  },
  {
   "cell_type": "code",
   "execution_count": null,
   "metadata": {
    "slideshow": {
     "slide_type": "skip"
    }
   },
   "outputs": [],
   "source": [
    "mix = mix_at(y_bass, y_chord)\n",
    "mix = mix_at(mix, y_lead)"
   ]
  },
  {
   "cell_type": "markdown",
   "metadata": {
    "slideshow": {
     "slide_type": "skip"
    }
   },
   "source": [
    "## End mix harmony"
   ]
  },
  {
   "cell_type": "code",
   "execution_count": null,
   "metadata": {
    "slideshow": {
     "slide_type": "skip"
    }
   },
   "outputs": [],
   "source": [
    "df = pd.DataFrame()\n",
    "\n",
    "df['offset'] = [x.offset.seconds for x in trk_lead.generate_notes()]\n",
    "df['duration'] = [x.duration.seconds for x in trk_lead.generate_notes()]\n",
    "df['end'] = df['offset'] + df['duration']\n",
    "df['note'] = [str(x.note) for x in trk_lead.generate_notes()]\n",
    "df = df.groupby(['offset', 'end', 'note']).size().unstack('note').fillna(0).astype(int)\n",
    "note_cols = df.columns\n",
    "df = df.reset_index()"
   ]
  },
  {
   "cell_type": "code",
   "execution_count": null,
   "metadata": {
    "slideshow": {
     "slide_type": "skip"
    }
   },
   "outputs": [],
   "source": [
    "note_cols = [str(x) for x in \n",
    "             pd.Series([x.note for x in trk_lead.generate_notes()]).sort_values().drop_duplicates()][1:]"
   ]
  },
  {
   "cell_type": "code",
   "execution_count": null,
   "metadata": {
    "slideshow": {
     "slide_type": "skip"
    }
   },
   "outputs": [],
   "source": [
    "df;"
   ]
  },
  {
   "cell_type": "code",
   "execution_count": null,
   "metadata": {
    "slideshow": {
     "slide_type": "-"
    }
   },
   "outputs": [],
   "source": [
    "Audio(mix[0:10*sr] , rate=sr)"
   ]
  },
  {
   "cell_type": "markdown",
   "metadata": {
    "slideshow": {
     "slide_type": "slide"
    }
   },
   "source": [
    "## The Fourier spectrum shows that the problem is much harder now!"
   ]
  },
  {
   "cell_type": "code",
   "execution_count": null,
   "metadata": {
    "slideshow": {
     "slide_type": "-"
    }
   },
   "outputs": [],
   "source": [
    "f_vec, t_vec, Zxx = stft(mix, sampling_info.sample_rate, nperseg=2048)\n",
    "plt.pcolormesh(t_vec, f_vec, np.abs(Zxx), vmin=0, vmax=1e-1)\n",
    "plt.title('STFT Magnitude')\n",
    "plt.ylabel('Frequency [Hz]')\n",
    "plt.xlabel('Time [sec]')\n",
    "plt.ylim(0, 3000)\n",
    "plt.xlim(0, 10);"
   ]
  },
  {
   "cell_type": "code",
   "execution_count": null,
   "metadata": {
    "slideshow": {
     "slide_type": "skip"
    }
   },
   "outputs": [],
   "source": [
    "y_train = np.array([df[(df.offset <= t) & (t < df.end)][note_cols].sum().values for t in t_vec])"
   ]
  },
  {
   "cell_type": "code",
   "execution_count": null,
   "metadata": {
    "slideshow": {
     "slide_type": "-"
    }
   },
   "outputs": [],
   "source": [
    "df.head(4)"
   ]
  },
  {
   "cell_type": "code",
   "execution_count": null,
   "metadata": {
    "slideshow": {
     "slide_type": "skip"
    }
   },
   "outputs": [],
   "source": [
    "n_steps = 1\n",
    "batch_size=32\n",
    "\n",
    "X_train = np.abs(np.array(Zxx))\n",
    "X_train = X_train.T\n",
    "X_train = X_train[0:X_train.shape[0] // n_steps]\n",
    "X_train = X_train.reshape(X_train.shape[0] // n_steps, n_steps, X_train.shape[1])"
   ]
  },
  {
   "cell_type": "code",
   "execution_count": null,
   "metadata": {
    "slideshow": {
     "slide_type": "skip"
    }
   },
   "outputs": [],
   "source": [
    "X_train = X_train[0:batch_size * (len(X_train) // batch_size)]\n",
    "y_train = y_train[0:batch_size * (len(X_train) // batch_size)]"
   ]
  },
  {
   "cell_type": "code",
   "execution_count": null,
   "metadata": {
    "slideshow": {
     "slide_type": "slide"
    }
   },
   "outputs": [],
   "source": [
    "from tensorflow.keras import Model\n",
    "from tensorflow.keras.layers import GRU, Input, Dense"
   ]
  },
  {
   "cell_type": "code",
   "execution_count": null,
   "metadata": {
    "slideshow": {
     "slide_type": "-"
    }
   },
   "outputs": [],
   "source": [
    "inp = Input(batch_shape=(batch_size,n_steps, f_vec.shape[0]))\n",
    "\n",
    "gru = GRU(14, stateful=True)\n",
    "dense = Dense(len(note_cols), activation='sigmoid')\n",
    "\n",
    "x = inp\n",
    "x = gru(x)\n",
    "out = dense(x)\n",
    "\n",
    "model = Model(inp, out)\n",
    "model.compile('adam', 'categorical_crossentropy', metrics=['accuracy'])\n",
    "model.summary()"
   ]
  },
  {
   "cell_type": "code",
   "execution_count": null,
   "metadata": {
    "slideshow": {
     "slide_type": "skip"
    }
   },
   "outputs": [],
   "source": [
    "X_train.T"
   ]
  },
  {
   "cell_type": "code",
   "execution_count": null,
   "metadata": {
    "slideshow": {
     "slide_type": "skip"
    }
   },
   "outputs": [],
   "source": [
    "val_split = 0.125\n",
    "n_too_much = len(X_train) * val_split % batch_size\n",
    "n_val_split = len(X_train) * val_split - n_too_much\n",
    "val_split = n_val_split / len(X_train)\n",
    "val_split"
   ]
  },
  {
   "cell_type": "code",
   "execution_count": null,
   "metadata": {
    "slideshow": {
     "slide_type": "slide"
    }
   },
   "outputs": [],
   "source": [
    "history = model.fit(X_train, \n",
    "                    y_train, \n",
    "                    batch_size=batch_size, \n",
    "                    epochs=300, validation_split=val_split, verbose=0)"
   ]
  },
  {
   "cell_type": "markdown",
   "metadata": {
    "slideshow": {
     "slide_type": "fragment"
    }
   },
   "source": [
    "Get some coffee"
   ]
  },
  {
   "cell_type": "code",
   "execution_count": null,
   "metadata": {
    "slideshow": {
     "slide_type": "slide"
    }
   },
   "outputs": [],
   "source": [
    "y_pred = model.predict(X_train, batch_size=batch_size)\n",
    "\n",
    "fig, ax = plt.subplots(1, 2)\n",
    "sel = np.arange(0, 200)\n",
    "\n",
    "plt.sca(ax[0])\n",
    "plt.pcolormesh(y_pred[sel].T, vmin=0, vmax=1)\n",
    "plt.sca(ax[1])\n",
    "plt.pcolormesh(y_train[sel].T, vmin=0, vmax=1)"
   ]
  },
  {
   "cell_type": "code",
   "execution_count": null,
   "metadata": {},
   "outputs": [],
   "source": [
    "nit = 0\n",
    "while True:\n",
    "    print(f\"{dt.datetime.now().strftime('%H:%M:%S')}: iteration {nit}\")\n",
    "    history = model.fit(X_train, y_train, batch_size=batch_size, epochs=600, \n",
    "                        validation_split=val_split, verbose=0)\n",
    "    \n",
    "    train_loss = history.history['loss'][-1]\n",
    "    val_loss = history.history['val_loss'][-1]\n",
    "    print(f\"Training loss: {train_loss}, Validation loss: {val_loss}\")\n",
    "    \n",
    "    nit += 1"
   ]
  },
  {
   "cell_type": "markdown",
   "metadata": {
    "slideshow": {
     "slide_type": "slide"
    }
   },
   "source": [
    "## After training for a night"
   ]
  },
  {
   "cell_type": "code",
   "execution_count": null,
   "metadata": {
    "slideshow": {
     "slide_type": "slide"
    }
   },
   "outputs": [],
   "source": [
    "y_pred = model.predict(X_train, batch_size=batch_size)\n",
    "\n",
    "fig, ax = plt.subplots(1, 2)\n",
    "sel = np.arange(0, 200)\n",
    "\n",
    "plt.sca(ax[0])\n",
    "plt.pcolormesh(y_pred[sel].T, vmin=0, vmax=1)\n",
    "plt.sca(ax[1])\n",
    "plt.pcolormesh(y_train[sel].T, vmin=0, vmax=1)"
   ]
  },
  {
   "cell_type": "code",
   "execution_count": null,
   "metadata": {},
   "outputs": [],
   "source": []
  }
 ],
 "metadata": {
  "celltoolbar": "Slideshow",
  "kernelspec": {
   "display_name": "Python 3",
   "language": "python",
   "name": "python3"
  },
  "language_info": {
   "codemirror_mode": {
    "name": "ipython",
    "version": 3
   },
   "file_extension": ".py",
   "mimetype": "text/x-python",
   "name": "python",
   "nbconvert_exporter": "python",
   "pygments_lexer": "ipython3",
   "version": "3.7.3"
  }
 },
 "nbformat": 4,
 "nbformat_minor": 4
}
