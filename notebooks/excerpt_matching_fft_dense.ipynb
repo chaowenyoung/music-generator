{
 "cells": [
  {
   "cell_type": "code",
   "execution_count": null,
   "metadata": {},
   "outputs": [],
   "source": [
    "%load_ext autoreload\n",
    "%autoreload 2"
   ]
  },
  {
   "cell_type": "code",
   "execution_count": null,
   "metadata": {},
   "outputs": [],
   "source": [
    "import glob\n",
    "import scipy.io.wavfile as wavfile\n",
    "import numpy as np\n",
    "import pandas as pd\n",
    "import matplotlib.pyplot as plt\n",
    "from IPython.display import Audio\n",
    "%matplotlib inline\n",
    "\n",
    "import tensorflow as tf\n",
    "from tensorflow.keras.models import Model"
   ]
  },
  {
   "cell_type": "code",
   "execution_count": null,
   "metadata": {},
   "outputs": [],
   "source": []
  },
  {
   "cell_type": "code",
   "execution_count": null,
   "metadata": {},
   "outputs": [],
   "source": [
    "DATA_DIR = \"/Users/marcelraas/tutorials/accelerator/lecture11_signalprocessing/data/audioset_music_genres/*.wav\" \n",
    "DEBUG = False\n",
    "SAMPLE_LENGTH = 220500\n",
    "EXCERPT_LENGTH = 2*4096\n",
    "BATCH_SIZE = 64\n",
    "SAMPLE_RATE = 22050"
   ]
  },
  {
   "cell_type": "markdown",
   "metadata": {},
   "source": [
    "## Load data"
   ]
  },
  {
   "cell_type": "code",
   "execution_count": null,
   "metadata": {},
   "outputs": [],
   "source": [
    "files = glob.glob(DATA_DIR)\n",
    "\n",
    "if DEBUG:\n",
    "    files = files[:1000]"
   ]
  },
  {
   "cell_type": "code",
   "execution_count": null,
   "metadata": {},
   "outputs": [],
   "source": [
    "all_data = []\n",
    "\n",
    "for file in files:\n",
    "    sr, data = wavfile.read(file)\n",
    "    data = data / 2**15\n",
    "    all_data.append(data)\n",
    "    \n",
    "all_data = np.array(all_data)"
   ]
  },
  {
   "cell_type": "markdown",
   "metadata": {},
   "source": [
    "## Data cleaning & to matrix"
   ]
  },
  {
   "cell_type": "code",
   "execution_count": null,
   "metadata": {},
   "outputs": [],
   "source": [
    "def clean_data(all_data):\n",
    "\n",
    "    lens = np.array([len(d) for d in all_data])\n",
    "    long_enough_samples = (lens == SAMPLE_LENGTH) \n",
    "    return all_data[long_enough_samples]\n",
    "\n",
    "all_data = clean_data(all_data)\n",
    "\n",
    "X = np.zeros(shape=[len(all_data), SAMPLE_LENGTH])\n",
    "\n",
    "for row_idx, row in enumerate(all_data):\n",
    "    X[row_idx, :] = row\n",
    "    \n",
    "del all_data"
   ]
  },
  {
   "cell_type": "markdown",
   "metadata": {},
   "source": [
    "## Excerpt generation"
   ]
  },
  {
   "cell_type": "code",
   "execution_count": null,
   "metadata": {},
   "outputs": [],
   "source": [
    "from music_generator.analysis.generators import SongMatchingSampler\n",
    "\n",
    "generator = SongMatchingSampler(wave_data=X, num_batches_per_epoch=10, batch_size=BATCH_SIZE, excerpt_length=EXCERPT_LENGTH)"
   ]
  },
  {
   "cell_type": "code",
   "execution_count": null,
   "metadata": {},
   "outputs": [],
   "source": [
    "generator[0][0][:, 0].shape"
   ]
  },
  {
   "cell_type": "code",
   "execution_count": null,
   "metadata": {},
   "outputs": [],
   "source": [
    "from IPython.display import display"
   ]
  },
  {
   "cell_type": "code",
   "execution_count": null,
   "metadata": {},
   "outputs": [],
   "source": [
    "generator[0][0][0][0]"
   ]
  },
  {
   "cell_type": "code",
   "execution_count": null,
   "metadata": {},
   "outputs": [],
   "source": []
  },
  {
   "cell_type": "code",
   "execution_count": null,
   "metadata": {},
   "outputs": [],
   "source": [
    "def play_excerpt(excerpt, idx=0):\n",
    "\n",
    "    data = excerpt[0]\n",
    "    data_at_idx = data[idx]\n",
    "    display(Audio(np.append(np.append(data_at_idx[0], np.array([0]*2*4096)), data_at_idx[1]), rate=SAMPLE_RATE, autoplay=True))\n",
    "    display(excerpt[1][idx])\n",
    "\n",
    "    \n",
    "play_excerpt(generator[0], 14)"
   ]
  },
  {
   "cell_type": "code",
   "execution_count": null,
   "metadata": {},
   "outputs": [],
   "source": []
  },
  {
   "cell_type": "code",
   "execution_count": null,
   "metadata": {},
   "outputs": [],
   "source": [
    "from tensorflow.keras.layers import Input, Dense, GRU, Dropout, PReLU, BatchNormalization, Flatten, Concatenate"
   ]
  },
  {
   "cell_type": "code",
   "execution_count": null,
   "metadata": {},
   "outputs": [],
   "source": [
    "FFT_SIZE = 8192"
   ]
  },
  {
   "cell_type": "code",
   "execution_count": null,
   "metadata": {},
   "outputs": [],
   "source": [
    "def build_model():\n",
    "    \n",
    "    inp = Input(shape=[2, EXCERPT_LENGTH])\n",
    "    x = inp\n",
    "    \n",
    "    x1 = tf.slice(x, [0, 0, 0], [BATCH_SIZE, 1, EXCERPT_LENGTH])\n",
    "    x1 = tf.reshape(x1, [BATCH_SIZE, EXCERPT_LENGTH // FFT_SIZE, FFT_SIZE])\n",
    "    x2 = tf.slice(x, [0, 1, 0], [BATCH_SIZE, 1, EXCERPT_LENGTH])\n",
    "    x2 = tf.reshape(x2, [BATCH_SIZE, EXCERPT_LENGTH // FFT_SIZE, FFT_SIZE])\n",
    "    \n",
    "    x1 = tf.math.real(tf.signal.fft(tf.complex(x1, 0.)))\n",
    "    x2 = tf.math.real(tf.signal.fft(tf.complex(x2, 0.)))\n",
    "    \n",
    "    gru_1 = GRU(units=640)(x1)\n",
    "    gru_2 = GRU(units=640)(x2)\n",
    "    \n",
    "    x = Concatenate()([gru_1, gru_2])\n",
    "    \n",
    "    x = Dense(units=320, activation='relu')(x)\n",
    "    x = Dense(units=64, activation='relu')(x)    \n",
    "    x = Dense(units=16, activation='relu')(x)\n",
    "    \n",
    "    out = Dense(units=1, activation='sigmoid')(x)\n",
    "    \n",
    "    return Model(inp, out)\n",
    "\n",
    "model = build_model()"
   ]
  },
  {
   "cell_type": "code",
   "execution_count": null,
   "metadata": {},
   "outputs": [],
   "source": []
  },
  {
   "cell_type": "code",
   "execution_count": null,
   "metadata": {},
   "outputs": [],
   "source": [
    "model.summary()"
   ]
  },
  {
   "cell_type": "code",
   "execution_count": null,
   "metadata": {},
   "outputs": [],
   "source": [
    "from tensorflow.keras.optimizers import Adam, Nadam"
   ]
  },
  {
   "cell_type": "code",
   "execution_count": null,
   "metadata": {},
   "outputs": [],
   "source": [
    "model.compile(Nadam(lr=1e-3), 'binary_crossentropy', metrics=['accuracy'])"
   ]
  },
  {
   "cell_type": "code",
   "execution_count": null,
   "metadata": {},
   "outputs": [],
   "source": [
    "model.fit_generator(generator, \n",
    "                    epochs=1,\n",
    "                    steps_per_epoch=1000)"
   ]
  },
  {
   "cell_type": "code",
   "execution_count": null,
   "metadata": {},
   "outputs": [],
   "source": [
    "import pandas as pd"
   ]
  },
  {
   "cell_type": "code",
   "execution_count": null,
   "metadata": {},
   "outputs": [],
   "source": [
    "batch = generator[0]"
   ]
  },
  {
   "cell_type": "code",
   "execution_count": null,
   "metadata": {},
   "outputs": [],
   "source": [
    "batch[1]"
   ]
  },
  {
   "cell_type": "code",
   "execution_count": null,
   "metadata": {},
   "outputs": [],
   "source": [
    "all_df = []\n",
    "\n",
    "for batch in generator:\n",
    "\n",
    "    df = pd.DataFrame({\n",
    "        \"pred\": model.predict(batch, steps=1).reshape(-1),\n",
    "        \"true\": batch[1]\n",
    "    })\n",
    "    \n",
    "    all_df.append(df)\n",
    "    \n",
    "df = pd.concat(all_df)"
   ]
  },
  {
   "cell_type": "code",
   "execution_count": null,
   "metadata": {},
   "outputs": [],
   "source": [
    "for idx, g in df.groupby(\"true\"):\n",
    "    g['pred'].hist(bins=np.linspace(0, 1, 50), label=idx, alpha=0.3)\n",
    "    \n",
    "plt.legend()"
   ]
  },
  {
   "cell_type": "code",
   "execution_count": null,
   "metadata": {},
   "outputs": [],
   "source": []
  },
  {
   "cell_type": "code",
   "execution_count": null,
   "metadata": {},
   "outputs": [],
   "source": []
  }
 ],
 "metadata": {
  "kernelspec": {
   "display_name": "Python 3",
   "language": "python",
   "name": "python3"
  },
  "language_info": {
   "codemirror_mode": {
    "name": "ipython",
    "version": 3
   },
   "file_extension": ".py",
   "mimetype": "text/x-python",
   "name": "python",
   "nbconvert_exporter": "python",
   "pygments_lexer": "ipython3",
   "version": "3.7.3"
  }
 },
 "nbformat": 4,
 "nbformat_minor": 2
}
