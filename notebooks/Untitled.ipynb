{
 "cells": [
  {
   "cell_type": "code",
   "execution_count": null,
   "metadata": {},
   "outputs": [],
   "source": [
    "\"\"\"Regeneration of lead synth from combined signal\"\"\"\n",
    "from tensorflow.keras.layers import Dense, Dropout, PReLU\n",
    "from tensorflow.keras.optimizers import Adam\n",
    "\n",
    "from music_generator.basic.random import generate_dataset\n",
    "from music_generator.basic.signalproc import SamplingInfo\n",
    "from music_generator.musical.timing import Tempo\n",
    "from music_generator.musical.scales import GenericScale\n",
    "from music_generator.basic.signalproc import mix_at\n",
    "from music_generator.analysis import preprocessing\n",
    "\n",
    "from music_generator.musical import scales\n",
    "import numpy as np\n",
    "from multiprocessing import Pool\n",
    "from functools import partial\n",
    "\n",
    "import matplotlib.pyplot as plt\n",
    "from IPython.display import Audio\n",
    "from scipy.io.wavfile import read\n",
    "from music_generator.analysis import regen_models\n",
    "from scipy.io import wavfile\n",
    "from music_generator.analysis import jamdataset\n",
    "import tensorflow as tf\n",
    "\n",
    "from music_generator.analysis import regen_models\n",
    "import importlib\n",
    "\n",
    "from tensorflow.keras.layers import Input, GRU, PReLU, Dropout, Dense, Reshape, Conv1D, LocallyConnected1D\n",
    "from tensorflow.keras.models import Model\n",
    "from tensorflow.keras.optimizers import RMSprop, Adam\n",
    "\n",
    "from tensorflow.keras.callbacks import TensorBoard, ReduceLROnPlateau, ModelCheckpoint\n",
    "import datetime as dt"
   ]
  },
  {
   "cell_type": "code",
   "execution_count": null,
   "metadata": {},
   "outputs": [],
   "source": [
    "import numpy as np\n",
    "import matplotlib.pyplot as plt"
   ]
  },
  {
   "cell_type": "code",
   "execution_count": null,
   "metadata": {},
   "outputs": [],
   "source": [
    "BATCH_SIZE = 32\n",
    "FRAGMENT_LENGTH = 4096\n",
    "SR = 44100\n",
    "TOTAL_LENGTH = 1000000"
   ]
  },
  {
   "cell_type": "code",
   "execution_count": null,
   "metadata": {},
   "outputs": [],
   "source": [
    "x = np.arange(TOTAL_LENGTH)\n",
    "y = np.sin(x / SR * 440 * 2 * np.pi)"
   ]
  },
  {
   "cell_type": "code",
   "execution_count": null,
   "metadata": {},
   "outputs": [],
   "source": [
    "np.max(y)"
   ]
  },
  {
   "cell_type": "code",
   "execution_count": null,
   "metadata": {},
   "outputs": [],
   "source": [
    "def build_fully_seq_model(batch_size, fragment_length):\n",
    "    \n",
    "    inp = Input(batch_shape=[batch_size, fragment_length])\n",
    "    hidden = inp\n",
    "    \n",
    "    hidden = Reshape([fragment_length, 1])(hidden)\n",
    "    \n",
    "    hidden = GRU(128, return_sequences=True, stateful=True)(hidden)\n",
    "#     hidden = GRU(128, return_sequences=True, stateful=True)(hidden)    \n",
    "    hidden = Dense(fragment_length, activation=\"relu\")(hidden)\n",
    "    hidden = Dense(1)(hidden)    \n",
    "    \n",
    "    hidden = Reshape([fragment_length])(hidden)\n",
    "    \n",
    "    out = hidden\n",
    "    \n",
    "    return Model(inp, out)\n",
    "\n",
    "def fft_loss(y_target, y_predicted):\n",
    "    y_target_complex = tf.cast(y_target, dtype=tf.complex64)\n",
    "    y_predicted_complex = tf.cast(y_predicted, dtype=tf.complex64)\n",
    "\n",
    "    loss = tf.square(tf.abs(tf.signal.fft(y_target_complex)) -\n",
    "                     tf.abs(tf.signal.fft(y_predicted_complex)))\n",
    "    return loss\n",
    "\n",
    "model = build_fully_seq_model(BATCH_SIZE, FRAGMENT_LENGTH)\n",
    "model.summary()\n",
    "model.compile(Adam(1e-3), loss='mse')"
   ]
  },
  {
   "cell_type": "code",
   "execution_count": null,
   "metadata": {},
   "outputs": [],
   "source": [
    "def build_fft_model(batch_size, fragment_length):\n",
    "    \n",
    "    inp = Input(batch_shape=[batch_size, fragment_length])\n",
    "    hidden = inp\n",
    "    \n",
    "    n_fft_steps = 1\n",
    "    n_channels_fft = fragment_length // n_fft_steps\n",
    "    \n",
    "    hidden = Reshape([n_fft_steps, n_channels_fft])(hidden)\n",
    "    \n",
    "    hidden = tf.signal.fft(tf.cast(hidden, tf.complex64))\n",
    "    hidden_abs = tf.math.abs(hidden)\n",
    "    hidden_ang = tf.math.angle(hidden)\n",
    "    \n",
    "    hidden_abs = GRU(2048, return_sequences=True, stateful=True)(hidden_abs)\n",
    "    hidden_abs = GRU(1024, return_sequences=True, stateful=True)(hidden_abs)    \n",
    "    hidden_abs = Dense(n_channels_fft, activation=\"relu\")(hidden_abs)\n",
    "    hidden_abs = Dense(n_channels_fft, activation=\"relu\")(hidden_abs)    \n",
    "    \n",
    "#     hidden_ang = GRU(2048, return_sequences=True, stateful=True)(hidden_ang)\n",
    "#     hidden_ang = GRU(1024, return_sequences=True, stateful=True)(hidden_ang)    \n",
    "#     hidden_ang = Dense(n_channels_fft, activation=\"relu\")(hidden_ang)\n",
    "#     hidden_ang = LocallyConnected1D(kernel_size=10, filters=1, padding=\"valid\")(hidden_ang)        \n",
    "    hidden_ang = Dense(n_channels_fft)(hidden_ang)\n",
    "\n",
    "    hidden = tf.complex(hidden_abs * tf.math.cos(hidden_ang), hidden_abs * tf.math.sin(hidden_ang))\n",
    "    \n",
    "    # hidden = Dense(n_channels_fft)\n",
    "    \n",
    "    hidden = tf.signal.ifft(hidden)\n",
    "    hidden = tf.cast(hidden, tf.float32)\n",
    "    hidden = Reshape([fragment_length])(hidden)\n",
    "    \n",
    "    out = hidden\n",
    "    \n",
    "    return Model(inp, out)\n",
    "\n",
    "def fft_loss(y_target, y_predicted):\n",
    "    y_target_complex = tf.cast(y_target, dtype=tf.complex64)\n",
    "    y_predicted_complex = tf.cast(y_predicted, dtype=tf.complex64)\n",
    "\n",
    "    loss = tf.square(tf.abs(tf.signal.fft(y_target_complex)) -\n",
    "                     tf.abs(tf.signal.fft(y_predicted_complex)))\n",
    "    return loss\n",
    "\n",
    "# model = build_fft_model(BATCH_SIZE, FRAGMENT_LENGTH)\n",
    "# model.summary()\n",
    "# model.compile(RMSprop(1e-3), loss=fft_loss)"
   ]
  },
  {
   "cell_type": "code",
   "execution_count": null,
   "metadata": {},
   "outputs": [],
   "source": [
    "from music_generator.analysis.data.filtering.generate import reshape_batches"
   ]
  },
  {
   "cell_type": "code",
   "execution_count": null,
   "metadata": {},
   "outputs": [],
   "source": [
    "x_train = reshape_batches(y, BATCH_SIZE, FRAGMENT_LENGTH)"
   ]
  },
  {
   "cell_type": "code",
   "execution_count": null,
   "metadata": {},
   "outputs": [],
   "source": [
    "model.fit(x_train, x_train, epochs=2)"
   ]
  },
  {
   "cell_type": "code",
   "execution_count": null,
   "metadata": {},
   "outputs": [],
   "source": [
    "plt.figure(figsize=[32,8])\n",
    "pred = model.predict(x_train, verbose=1).reshape(-1)\n",
    "Audio(pred.reshape(-1), rate=SR)"
   ]
  },
  {
   "cell_type": "code",
   "execution_count": null,
   "metadata": {},
   "outputs": [],
   "source": [
    "plt.figure(figsize=[32,8])\n",
    "plt.plot(pred[2500:5000])\n",
    "plt.plot(x_train.reshape(-1)[2500:5000])"
   ]
  },
  {
   "cell_type": "code",
   "execution_count": null,
   "metadata": {},
   "outputs": [],
   "source": [
    "Audio(x_train.reshape(-1), rate=SR)"
   ]
  }
 ],
 "metadata": {
  "kernelspec": {
   "display_name": "Python 3",
   "language": "python",
   "name": "python3"
  },
  "language_info": {
   "codemirror_mode": {
    "name": "ipython",
    "version": 3
   },
   "file_extension": ".py",
   "mimetype": "text/x-python",
   "name": "python",
   "nbconvert_exporter": "python",
   "pygments_lexer": "ipython3",
   "version": "3.7.3"
  }
 },
 "nbformat": 4,
 "nbformat_minor": 2
}
