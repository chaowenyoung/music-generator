{
 "cells": [
  {
   "cell_type": "code",
   "execution_count": null,
   "metadata": {},
   "outputs": [],
   "source": [
    "%load_ext autoreload\n",
    "%autoreload 2"
   ]
  },
  {
   "cell_type": "code",
   "execution_count": null,
   "metadata": {},
   "outputs": [],
   "source": [
    "\"\"\"Regeneration of lead synth from combined signal\"\"\"\n",
    "import keras\n",
    "from keras.layers import Dense, Dropout, PReLU\n",
    "from keras.optimizers import Adam\n",
    "\n",
    "from music_generator.basic.random import generate_dataset\n",
    "from music_generator.basic.signalproc import SamplingInfo\n",
    "from music_generator.musical.timing import Tempo\n",
    "from music_generator.musical.scales import GenericScale\n",
    "from music_generator.analysis.play import play_mono_as_stereo, play_array\n",
    "from music_generator.basic.signalproc import mix_at\n",
    "from music_generator.analysis import preprocessing\n",
    "\n",
    "from music_generator.musical import scales\n",
    "import numpy as np\n",
    "from multiprocessing import Pool\n",
    "from functools import partial\n",
    "\n",
    "import matplotlib.pyplot as plt\n",
    "from IPython.display import Audio\n",
    "from scipy.io.wavfile import read\n",
    "from music_generator.analysis import regen_models\n",
    "from scipy.io import wavfile\n",
    "from music_generator.analysis import jamdataset\n",
    "import tensorflow as tf\n",
    "\n",
    "from music_generator.analysis import regen_models\n",
    "import importlib"
   ]
  },
  {
   "cell_type": "code",
   "execution_count": null,
   "metadata": {},
   "outputs": [],
   "source": [
    "sr = 44100\n",
    "sampling_info = SamplingInfo(sr)\n",
    "n_samples = 4096\n",
    "fragment_length = 4096"
   ]
  },
  {
   "cell_type": "code",
   "execution_count": null,
   "metadata": {},
   "outputs": [],
   "source": [
    "model = regen_models.FftBranchesFilter(n_samples, learning_rate=1e-4, loss_fct='fft_loss').build_model()\n",
    "model.summary()"
   ]
  },
  {
   "cell_type": "code",
   "execution_count": null,
   "metadata": {},
   "outputs": [],
   "source": [
    "while True:\n",
    "\n",
    "    jds = jamdataset.JamDataSet(fragment_length=fragment_length, n_samples_train=10000, n_samples_test=500)\n",
    "    model.fit(jds.x_train, \n",
    "              jds.y_train, \n",
    "              epochs=5, \n",
    "              verbose=1,\n",
    "              shuffle=True,\n",
    "              batch_size=64,\n",
    "              validation_data=[jds.x_test, jds.y_test])\n",
    "    \n",
    "    pred_model = regen_models.RegenModel(model=model, fragment_length=fragment_length)\n",
    "\n",
    "    sr, dt = wavfile.read('../data/full-mix.wav')\n",
    "    dt = dt / 2**16\n",
    "\n",
    "    pred = pred_model.predict(dt)\n",
    "    play_array(pred[20*sr:40*sr], do_wait_done=False)"
   ]
  },
  {
   "cell_type": "code",
   "execution_count": null,
   "metadata": {},
   "outputs": [],
   "source": []
  },
  {
   "cell_type": "code",
   "execution_count": null,
   "metadata": {},
   "outputs": [],
   "source": []
  },
  {
   "cell_type": "code",
   "execution_count": null,
   "metadata": {},
   "outputs": [],
   "source": [
    "# Audio(pred, rate=sr)"
   ]
  },
  {
   "cell_type": "code",
   "execution_count": null,
   "metadata": {},
   "outputs": [],
   "source": []
  },
  {
   "cell_type": "code",
   "execution_count": null,
   "metadata": {},
   "outputs": [],
   "source": [
    "# start_sec, end_sec = 20, 60\n",
    "\n",
    "# pred = model_predict(model, input_track[start_sec*sr:end_sec*sr], fragment_length)\n",
    "# play_array(input_track[start_sec*sr:end_sec*sr])\n",
    "# play_array(pred)\n",
    "\n",
    "# #%%\n",
    "\n",
    "# x_pred = input_track[start_sec*sr:end_sec*sr]\n",
    "# x_pred = x_pred[:(len(x_pred) // fragment_length) * fragment_length]\n",
    "# x_pred = x_pred.reshape(-1, fragment_length)\n",
    "\n",
    "# y_pred = model.predict(x_pred)\n",
    "# play_array(y_pred)"
   ]
  }
 ],
 "metadata": {
  "kernelspec": {
   "display_name": "Python 3",
   "language": "python",
   "name": "python3"
  },
  "language_info": {
   "codemirror_mode": {
    "name": "ipython",
    "version": 3
   },
   "file_extension": ".py",
   "mimetype": "text/x-python",
   "name": "python",
   "nbconvert_exporter": "python",
   "pygments_lexer": "ipython3",
   "version": "3.7.0"
  }
 },
 "nbformat": 4,
 "nbformat_minor": 2
}
