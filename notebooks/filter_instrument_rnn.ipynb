{
 "cells": [
  {
   "cell_type": "code",
   "execution_count": null,
   "metadata": {},
   "outputs": [],
   "source": [
    "%load_ext autoreload\n",
    "%autoreload 2"
   ]
  },
  {
   "cell_type": "code",
   "execution_count": null,
   "metadata": {},
   "outputs": [],
   "source": [
    "\"\"\"Regeneration of lead synth from combined signal\"\"\"\n",
    "from tensorflow.keras.layers import Dense, Dropout, PReLU\n",
    "from tensorflow.keras.optimizers import Adam\n",
    "\n",
    "from music_generator.basic.random import generate_dataset\n",
    "from music_generator.basic.signalproc import SamplingInfo\n",
    "from music_generator.musical.timing import Tempo\n",
    "from music_generator.musical.scales import GenericScale\n",
    "from music_generator.basic.signalproc import mix_at\n",
    "from music_generator.analysis import preprocessing\n",
    "\n",
    "from music_generator.musical import scales\n",
    "import numpy as np\n",
    "from multiprocessing import Pool\n",
    "from functools import partial\n",
    "\n",
    "import matplotlib.pyplot as plt\n",
    "from IPython.display import Audio\n",
    "from scipy.io.wavfile import read\n",
    "from music_generator.analysis import regen_models\n",
    "from scipy.io import wavfile\n",
    "from music_generator.analysis import jamdataset\n",
    "import tensorflow as tf\n",
    "\n",
    "from music_generator.analysis import regen_models\n",
    "import importlib\n",
    "\n",
    "from tensorflow.keras.layers import Input, GRU, PReLU, Dropout, Dense, Reshape\n",
    "from tensorflow.keras.models import Model\n",
    "from tensorflow.keras.optimizers import RMSprop, Adam\n",
    "\n",
    "from tensorflow.keras.callbacks import TensorBoard, ReduceLROnPlateau, ModelCheckpoint\n",
    "import datetime as dt"
   ]
  },
  {
   "cell_type": "code",
   "execution_count": null,
   "metadata": {},
   "outputs": [],
   "source": [
    "sr = 11025\n",
    "sampling_info = SamplingInfo(sr)\n",
    "n_train = 4096\n",
    "n_test = 128\n",
    "fragment_length = 4096\n",
    "sr = sampling_info.sample_rate"
   ]
  },
  {
   "cell_type": "markdown",
   "metadata": {},
   "source": [
    "## Generate data"
   ]
  },
  {
   "cell_type": "code",
   "execution_count": null,
   "metadata": {},
   "outputs": [],
   "source": [
    "# Generate in all keys\n",
    "all_roots = scales.chromatic_scale('C')\n",
    "roots = [n.get_symbol() for n in all_roots.generate(0, 1)]\n",
    "print(roots)\n",
    "\n",
    "def generate_dataset_for_root(root):\n",
    "    return generate_dataset(n_measures=32,\n",
    "                            tempo=Tempo(120),\n",
    "                            scale=GenericScale(root, [0, 2, 3, 5, 7, 8, 10]),\n",
    "                            sampling_info=sampling_info)\n",
    "    \n",
    "with Pool(8) as pool:\n",
    "    datasets = pool.map(generate_dataset_for_root, roots)\n",
    "    \n",
    "# Make one big data set and make sure data is of same size    \n",
    "audio_tracks, mix = preprocessing.combine_datasets(datasets)    \n",
    "\n",
    "input_track = mix\n",
    "target_track = audio_tracks[2]"
   ]
  },
  {
   "cell_type": "code",
   "execution_count": null,
   "metadata": {},
   "outputs": [],
   "source": [
    "# Audio(input_track, rate=sr)\n",
    "# Audio(target_track, rate=sr)"
   ]
  },
  {
   "cell_type": "code",
   "execution_count": null,
   "metadata": {},
   "outputs": [],
   "source": [
    "x, y = preprocessing.create_training_data_set(n_train + n_test, \n",
    "                                              fragment_length, \n",
    "                                              input_track, \n",
    "                                              target_track)"
   ]
  },
  {
   "cell_type": "code",
   "execution_count": null,
   "metadata": {},
   "outputs": [],
   "source": [
    "x_train, y_train = x[:n_train], y[:n_train]\n",
    "x_test, y_test = x[-n_test:], y[-n_test:]"
   ]
  },
  {
   "cell_type": "code",
   "execution_count": null,
   "metadata": {},
   "outputs": [],
   "source": [
    "del x, y"
   ]
  },
  {
   "cell_type": "code",
   "execution_count": null,
   "metadata": {},
   "outputs": [],
   "source": [
    "Audio(x_train[0], rate=sr)\n",
    "# Audio(y_train[0], rate=sr)"
   ]
  },
  {
   "cell_type": "markdown",
   "metadata": {},
   "source": [
    "## Construct model"
   ]
  },
  {
   "cell_type": "code",
   "execution_count": null,
   "metadata": {},
   "outputs": [],
   "source": [
    "def build_fft_model(fragment_length):\n",
    "    \n",
    "    inp = Input(shape=[fragment_length])\n",
    "    hidden = inp\n",
    "    \n",
    "    n_channels_fft = fragment_length // 8\n",
    "    \n",
    "    hidden = Reshape([8, n_channels_fft])(hidden)\n",
    "    \n",
    "    hidden = tf.signal.fft(tf.cast(hidden, tf.complex64))\n",
    "    hidden_abs = tf.math.abs(hidden)\n",
    "    hidden_ang = tf.math.angle(hidden)\n",
    "    \n",
    "    hidden_abs = GRU(2048, return_sequences=True)(hidden_abs)\n",
    "    hidden_abs = GRU(1024, return_sequences=True)(hidden_abs)    \n",
    "    hidden_abs = Dense(n_channels_fft, activation=\"relu\")(hidden_abs)\n",
    "    hidden_abs = Dense(n_channels_fft, activation=\"relu\")(hidden_abs)    \n",
    "    \n",
    "    hidden = tf.complex(hidden_abs * tf.math.cos(hidden_ang), hidden_abs * tf.math.sin(hidden_ang))\n",
    "    \n",
    "    hidden = tf.signal.ifft(hidden)\n",
    "    hidden = tf.cast(hidden, tf.float32)\n",
    "    hidden = Reshape([fragment_length])(hidden)\n",
    "    \n",
    "    out = hidden\n",
    "    \n",
    "    return Model(inp, out)\n",
    "\n",
    "def fft_loss(y_target, y_predicted):\n",
    "    y_target_complex = tf.cast(y_target, dtype=tf.complex64)\n",
    "    y_predicted_complex = tf.cast(y_predicted, dtype=tf.complex64)\n",
    "\n",
    "    loss = tf.square(tf.abs(tf.signal.fft(y_target_complex)) -\n",
    "                     tf.abs(tf.signal.fft(y_predicted_complex)))\n",
    "    return loss\n",
    "\n",
    "model = build_fft_model(fragment_length)\n",
    "model.summary()\n",
    "model.compile(RMSprop(1e-3), loss='mse')"
   ]
  },
  {
   "cell_type": "markdown",
   "metadata": {},
   "source": [
    "## Setup callbacks"
   ]
  },
  {
   "cell_type": "code",
   "execution_count": null,
   "metadata": {},
   "outputs": [],
   "source": [
    "callbacks = []\n",
    "\n",
    "# log_file_name = f\"tensorboard/{dt.datetime.now().strftime('%Y%m%d%H%M%S')}\"\n",
    "# tensorboard_callback = TensorBoard(log_dir=log_file_name, histogram_freq=1, update_freq='batch')\n",
    "# callbacks.append(tensorboard_callback)\n",
    "\n",
    "# reduce_lr_callback = ReduceLROnPlateau(verbose=1)\n",
    "# callbacks.append(reduce_lr_callback)\n",
    "\n",
    "# model_checkpoint_callback = ModelCheckpoint(\"weights.{epoch:02d}.h5\")\n",
    "# callbacks.append(model_checkpoint_callback)"
   ]
  },
  {
   "cell_type": "markdown",
   "metadata": {},
   "source": [
    "## Fit model"
   ]
  },
  {
   "cell_type": "code",
   "execution_count": null,
   "metadata": {},
   "outputs": [],
   "source": [
    "model.fit(x_train, y_train, validation_data=[x_test, y_test], callbacks=callbacks, epochs=5, shuffle=True, batch_size=32)"
   ]
  },
  {
   "cell_type": "code",
   "execution_count": null,
   "metadata": {},
   "outputs": [],
   "source": [
    "n_batches_inference = len(input_track) // fragment_length\n",
    "inference_ds = input_track[:n_batches_inference * fragment_length]\n",
    "inference_ds = inference_ds.reshape(-1, fragment_length)"
   ]
  },
  {
   "cell_type": "code",
   "execution_count": null,
   "metadata": {},
   "outputs": [],
   "source": [
    "n_batches_inference"
   ]
  },
  {
   "cell_type": "code",
   "execution_count": null,
   "metadata": {},
   "outputs": [],
   "source": [
    "output = model.predict(inference_ds, verbose=1).reshape(-1)"
   ]
  },
  {
   "cell_type": "code",
   "execution_count": null,
   "metadata": {},
   "outputs": [],
   "source": [
    "Audio(output[:1000000], rate=sr)"
   ]
  }
 ],
 "metadata": {
  "kernelspec": {
   "display_name": "Python 3",
   "language": "python",
   "name": "python3"
  },
  "language_info": {
   "codemirror_mode": {
    "name": "ipython",
    "version": 3
   },
   "file_extension": ".py",
   "mimetype": "text/x-python",
   "name": "python",
   "nbconvert_exporter": "python",
   "pygments_lexer": "ipython3",
   "version": "3.7.1"
  }
 },
 "nbformat": 4,
 "nbformat_minor": 2
}
